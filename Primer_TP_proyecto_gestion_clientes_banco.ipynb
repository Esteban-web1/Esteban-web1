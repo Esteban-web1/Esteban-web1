{
  "nbformat": 4,
  "nbformat_minor": 0,
  "metadata": {
    "colab": {
      "provenance": [],
      "include_colab_link": true
    },
    "kernelspec": {
      "name": "python3",
      "display_name": "Python 3"
    },
    "language_info": {
      "name": "python"
    }
  },
  "cells": [
    {
      "cell_type": "markdown",
      "metadata": {
        "id": "view-in-github",
        "colab_type": "text"
      },
      "source": [
        "<a href=\"https://colab.research.google.com/github/Esteban-web1/Esteban-web1/blob/main/Primer_TP_proyecto_gestion_clientes_banco.ipynb\" target=\"_parent\"><img src=\"https://colab.research.google.com/assets/colab-badge.svg\" alt=\"Open In Colab\"/></a>"
      ]
    },
    {
      "cell_type": "markdown",
      "source": [
        "<p align=\"center\">\n",
        "<img\n",
        "     src=\"https://drive.google.com/uc?export=view&id=1HgOjCrush74yToB27yOtsFvztizvTWq0\"\n",
        "     alt=\"pypl\"\n",
        "     width=110%\n",
        "     height=110%>\n",
        "</p>"
      ],
      "metadata": {
        "id": "iAjlxQ7gS0jf"
      }
    },
    {
      "cell_type": "markdown",
      "source": [
        "# 📌 Observaciones Generales\n",
        "\n",
        "Los proyectos que deben realizar son de carácter **integrador**, lo que significa que requerirán manejar y aplicar las distintas herramientas y conceptos que hemos visto hasta el momento en el curso. Están estructurados de manera **paso a paso**, con el objetivo de que las consignas sean claras y fáciles de seguir.\n",
        "\n",
        "<br>\n",
        "\n",
        "👉🏻 Pautas de Evaluación\n",
        "\n",
        "No evaluaremos la calidad del código en términos de estilo o eficiencia, sino que nos centraremos en su funcionalidad y en que cumpla con los requisitos básicos indicados en las consignas.\n",
        "\n",
        "Pueden hacer uso de asistentes virtuales (ChatGPT, Gemini, Llama, etc.), pero es importante que sean **ustedes quienes mantengan el control del código y comprendan cada paso del proceso**. Recuerden que el uso de estas herramientas es un complemento, pero la verdadera comprensión proviene de interactuar y resolver los problemas por su cuenta.\n",
        "\n",
        "<br>\n",
        "\n",
        "👉🏻 Testeo de Código\n",
        "\n",
        "Es fundamental que prueben y testen sus códigos para asegurarse de que funcionen correctamente y cumplan con los requerimientos del proyecto. Se valorará que el código sea funcional y que se hayan tomado medidas para verificar que no contenga errores de ejecución.\n",
        "\n",
        "<br>\n",
        "\n",
        "👉🏻 Consultas y Soporte\n",
        "\n",
        "Ante cualquier duda, pueden escribir en el foro del Aula Virtual, donde estaremos revisando y respondiendo sus consultas. Les animamos a participar activamente y compartir sus inquietudes para que todos puedan beneficiarse de las respuestas.\n",
        "\n",
        "<br>\n",
        "\n",
        "👉🏻 Entrega\n",
        "\n",
        "- Fecha límite: El día 03 de noviembre a las 23:59 hs.\n",
        "\n",
        "- Formato de entrega: Subir el archivo .ipynb (Jupyter Notebook) como tarea en el Aula Virtual, respetando la siguiente nomenclatura:\n",
        "\n",
        "proyecto_gestion_banco_apellido_nombre.ipynb (por ejemplo: proyecto_gestion_banco_gonzalez_maria.ipynb).\n",
        "\n",
        "<br>\n",
        "\n",
        "🙏🏻 Por favor, respeten la nomenclatura solicitada y asegúrense de cumplir con el plazo de entrega.\n",
        "\n"
      ],
      "metadata": {
        "id": "ITx7PPyCUQp8"
      }
    },
    {
      "cell_type": "markdown",
      "source": [
        "# ¡Manos a la obra!\n",
        "\n",
        "## 🔵 Contexto del problema\n",
        "Un pequeño banco local necesita un sistema básico para gestionar las cuentas de sus clientes. Cada cliente tiene una cuenta bancaria, con la cual puede realizar depósitos, retiros y consultar el saldo. El banco también necesita realizar un análisis básico de los clientes, como verificar cuántos tienen saldos por encima de un cierto monto.\n",
        "\n",
        "<br>\n",
        "\n",
        "## 🔵 Objetivo del proyecto\n",
        "Desarrollar un sistema que permita gestionar las cuentas bancarias de los clientes. El sistema debe permitir:\n",
        "\n",
        "- Almacenar la información básica de los clientes y sus cuentas.\n",
        "- Realizar depósitos y retiros en las cuentas.\n",
        "- Consultar el saldo de un cliente específico.\n",
        "- Listar todos los clientes con sus saldos.\n",
        "- Realizar un análisis básico de los saldos.\n",
        "\n",
        "<br>\n",
        "\n",
        "---\n",
        "\n",
        "<br>\n",
        "\n",
        "## 1️⃣ Estructura inicial de los datos\n",
        "\n",
        "**Problema.** El banco necesita almacenar la información básica de los clientes y el saldo de sus cuentas.\n",
        "\n",
        "Ejercicio 1.1: Crea una lista de diccionarios, llamada `clientes_banco` donde cada diccionario almacene la información de un cliente. Los diccionarios deben tener las claves:\n",
        "- \"nombre\"\n",
        "- \"edad\"\n",
        "- \"nro_cuenta\" (número de cuenta bancaria, como un número de 6 dígitos).\n",
        "- \"saldo\" (saldo de la cuenta, que puede empezar en 0).\n",
        "\n",
        "Sigue el siguiente ejemplo:\n",
        "\n",
        "```\n",
        "clientes_banco = [\n",
        "    {\"nombre\": \"Carlos\", \"edad\": 45, \"nro_cuenta\": 123456, \"saldo\": 5000}\n",
        "]\n",
        "```\n",
        "\n",
        "Ejercicio 1.2: Agrega al menos tres clientes en la lista `clientes_banco`.\n",
        "\n",
        "<br>\n",
        "\n",
        "---\n",
        "\n",
        "<br>\n",
        "\n",
        "## 2️⃣ Consulta de saldo\n",
        "\n",
        "**Problema.** El banco necesita poder consultar el saldo de un cliente específico.\n",
        "\n",
        "Ejercicio 2.1: Crea una función llamada `consultar_saldo(nro_cuenta)` que reciba el número de cuenta de un cliente y devuelva su saldo. Si el número de cuenta no se encuentra, debe indicar que no existe.\n",
        "\n",
        "🆘 Pistas:\n",
        "\n",
        "- Usa un bucle `for` para recorrer la lista de clientes.\n",
        "- Usa un condicional `if` para comparar el número de cuenta.\n",
        "\n",
        "<br>\n",
        "\n",
        "---\n",
        "\n",
        "<br>\n",
        "\n",
        "## 3️⃣ Depósito y retiro de dinero\n",
        "\n",
        "**Problema.** El banco necesita permitir a los clientes realizar depósitos y retiros de sus cuentas.\n",
        "\n",
        "Ejercicio 3.1: Crea una función `depositar(nro_cuenta, monto)` que reciba el número de cuenta de un cliente y un monto a depositar, y actualice el saldo de la cuenta. Si el número de cuenta no se encuentra, debe indicar que no existe.\n",
        "\n",
        "Ejercicio 3.2: Crea una función `retirar(nro_cuenta, monto)` que permita realizar retiros de una cuenta, siempre que el saldo sea suficiente. Si el saldo no es suficiente, debe mostrar un mensaje similar a \"La operación no pudo ser realizada, saldo insuficiente\".\n",
        "\n",
        "\n",
        "<br>\n",
        "\n",
        "---\n",
        "\n",
        "<br>\n",
        "\n",
        "## 4️⃣ Lista de clientes y sus cuentas\n",
        "\n",
        "**Problema.** El banco necesita poder listar rápidamente todos los clientes y la información básica de sus cuentas.\n",
        "\n",
        "Ejercicio 4.1: Crea una función `listar_clientes()` que imprima en pantalla el nombre, número de cuenta y saldo de todos los clientes.\n",
        "\n",
        "\n",
        "<br>\n",
        "\n",
        "---\n",
        "\n",
        "<br>\n",
        "\n",
        "## 5️⃣ Análisis de los datos\n",
        "\n",
        "**Problema.** El banco quiere analizar los datos de los clientes y, por ejemplo, saber cuántos tienen un saldo por encima de un monto específico.\n",
        "\n",
        "Ejercicio 5.1: Crea una función `clientes_con_saldo_mayor_a(monto)` que reciba un monto y devuelva la lista de clientes cuyo saldo sea mayor a ese monto.\n",
        "\n",
        "🆘 Pistas:\n",
        "\n",
        "- Usa un bucle para recorrer los clientes y un condicional para comparar los saldos.\n"
      ],
      "metadata": {
        "id": "qdkwgnCePVgz"
      }
    },
    {
      "cell_type": "code",
      "source": [
        "#Resuelvo el primer ejercicio\n",
        "\n",
        "#Primero creo la lista donde voy a guardar los diccionarios futuros, que van a ser datos de cuentas\n",
        "clientes_banco = []\n",
        "\n",
        "#Agrego diccionarios de los usuarios a la lista con el comando .append\n",
        "clientes_banco.append(\n",
        "    {\"nombre\": \"Juan\", \"edad\": 18, \"nro_cuenta\": 258466, \"saldo\": 4999}\n",
        ")\n",
        "clientes_banco.append(\n",
        "    {\"nombre\": \"María\", \"edad\": 36, \"nro_cuenta\": 434567, \"saldo\": 2500000}\n",
        ")\n",
        "clientes_banco.append(\n",
        "    {\"nombre\": \"Diego\", \"edad\": 45, \"nro_cuenta\": 987654, \"saldo\": 7500000}\n",
        ")\n",
        "clientes_banco.append(\n",
        "    {\"nombre\": \"Milagros\", \"edad\": 23, \"nro_cuenta\": 375319, \"saldo\": 70000}\n",
        ")"
      ],
      "metadata": {
        "id": "dHiRG2CjLLkX"
      },
      "execution_count": null,
      "outputs": []
    },
    {
      "cell_type": "code",
      "source": [
        "#Resuelvo el ejercicio número 2, creando la función consultar_saldo(nro_cuenta)\n",
        "def consultar_saldo(nro_cuenta):\n",
        "\n",
        "#Planteo la condicional para buscar en la lista y que en caso de no encontrar la cuenta indique que no existe\n",
        "    for cliente in clientes_banco:\n",
        "        if cliente[\"nro_cuenta\"] == nro_cuenta:\n",
        "            return cliente[\"saldo\"]\n",
        "    return \"El número de cuenta no existe.\"\n",
        "\n",
        "#Consulto un número de cuenta para verificar que el código funciona, en este caso el del número 258466\n",
        "consultar_saldo(258466)"
      ],
      "metadata": {
        "colab": {
          "base_uri": "https://localhost:8080/"
        },
        "id": "MGYViNaPLJ3J",
        "outputId": "4382f244-c149-4d7e-d37f-f0d52ab69500"
      },
      "execution_count": null,
      "outputs": [
        {
          "output_type": "execute_result",
          "data": {
            "text/plain": [
              "5000"
            ]
          },
          "metadata": {},
          "execution_count": 6
        }
      ]
    },
    {
      "cell_type": "code",
      "execution_count": null,
      "metadata": {
        "id": "ZlkkbWmCPQMq",
        "colab": {
          "base_uri": "https://localhost:8080/"
        },
        "outputId": "30be2318-a47b-421f-8566-65aa83ac8df1"
      },
      "outputs": [
        {
          "output_type": "stream",
          "name": "stdout",
          "text": [
            "Depósito de 5000 realizado. Nuevo saldo: 15000.\n",
            "Retiro de 5000 realizado. Nuevo saldo: 10000.\n"
          ]
        }
      ],
      "source": [
        "#Resuelvo el ejercicio número 3.1, definiendo la función para depositar dinero en la cuenta\n",
        "def depositar(nro_cuenta, monto):\n",
        "    for cliente in clientes_banco:\n",
        "        if cliente[\"nro_cuenta\"] == nro_cuenta:\n",
        "            cliente[\"saldo\"] += monto\n",
        "            print(f\"Depósito de {monto} realizado. Nuevo saldo: {cliente['saldo']}.\")\n",
        "            return\n",
        "\n",
        "    print(\"Número de cuenta no encontrado.\")\n",
        "\n",
        "#Pruebo la función con el mismo número de cuenta anterior, depositando 5000 //\n",
        "#Hay que destacar que primero deberíamos correr el ejercicio 1) o armar 1 sólo código porque aquí no están todos los elementos definidos en la función\n",
        "depositar(258466, 5000)\n",
        "\n",
        "\n"
      ]
    },
    {
      "cell_type": "code",
      "source": [
        "#Seguimos con el ejercicio 3.2, definiendo la función para retirar dinero de la cuenta\n",
        "def retirar(nro_cuenta, monto):\n",
        "    for cliente in clientes_banco:\n",
        "        if cliente[\"nro_cuenta\"] == nro_cuenta:\n",
        "            if cliente[\"saldo\"] >= monto:\n",
        "                cliente[\"saldo\"] -= monto\n",
        "                print(f\"Retiro de {monto} realizado. Nuevo saldo: {cliente['saldo']}.\")\n",
        "                return\n",
        "            else:\n",
        "                print(\"La operación no pudo ser realizada, saldo insuficiente.\")\n",
        "                return\n",
        "    print(\"Número de cuenta no encontrado.\")\n",
        "\n",
        "#Pruebo la función con el mismo número de cuenta anterior, retirando 5000 //\n",
        "retirar(258466, 5000)\n",
        "#La observación es la misma que en el punto anterior y lo seguí haciendo separado por ser funciones distintas,\n",
        "#Es decir que en caso de uso podemos correr las funciones y depositar o retirar de cuentas para cada caso particular."
      ],
      "metadata": {
        "id": "sYjtY4H8xSeS"
      },
      "execution_count": null,
      "outputs": []
    },
    {
      "cell_type": "code",
      "source": [
        "#Seguimos con el ejercicio 4.1, definiendo la función para listar clientes\n",
        "def listar_clientes():\n",
        "    # Buscamos en toda la lista de clientes y mostramos la información\n",
        "    for cliente in clientes_banco:\n",
        "        print(f\"Nombre: {cliente['nombre']}, Nro Cuenta: {cliente['nro_cuenta']}, Saldo: ${cliente['saldo']}\")\n",
        "\n",
        "# Llamamos a la función para mostrar la lista de clientes\n",
        "listar_clientes()"
      ],
      "metadata": {
        "colab": {
          "base_uri": "https://localhost:8080/"
        },
        "id": "KY5VUZquxydr",
        "outputId": "320b54ed-2793-45d3-e84b-344e152cf15f"
      },
      "execution_count": null,
      "outputs": [
        {
          "output_type": "stream",
          "name": "stdout",
          "text": [
            "Nombre: Juan, Nro Cuenta: 258466, Saldo: $5000\n",
            "Nombre: María, Nro Cuenta: 434567, Saldo: $2500000\n",
            "Nombre: Diego, Nro Cuenta: 987654, Saldo: $7500000\n",
            "Nombre: Milagros, Nro Cuenta: 375319, Saldo: $70000\n"
          ]
        }
      ]
    },
    {
      "cell_type": "code",
      "source": [
        "#Seguimos con el ejercicio 5.1, creando la función correspondiente\n",
        "def clientes_con_saldo_mayor_a(monto):\n",
        "    # Buscamos en toda la lista de clientes y mostramos la información\n",
        "    clientes_con_saldo_mayor = []\n",
        "    for cliente in clientes_banco:\n",
        "        if cliente[\"saldo\"] > monto:\n",
        "            clientes_con_saldo_mayor.append(cliente)\n",
        "    return clientes_con_saldo_mayor\n",
        "\n",
        "#Usamos la función para corroborar que funciona\n",
        "clientes_con_saldo_mayor_a(500000)"
      ],
      "metadata": {
        "colab": {
          "base_uri": "https://localhost:8080/"
        },
        "id": "sYKnUzk0zd-f",
        "outputId": "193c959d-1884-4f02-9157-ba5ec5343c2d"
      },
      "execution_count": null,
      "outputs": [
        {
          "output_type": "execute_result",
          "data": {
            "text/plain": [
              "[{'nombre': 'María', 'edad': 36, 'nro_cuenta': 434567, 'saldo': 2500000},\n",
              " {'nombre': 'Diego', 'edad': 45, 'nro_cuenta': 987654, 'saldo': 7500000}]"
            ]
          },
          "metadata": {},
          "execution_count": 18
        }
      ]
    }
  ]
}